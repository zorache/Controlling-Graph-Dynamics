{
 "cells": [
  {
   "cell_type": "code",
   "execution_count": 15,
   "metadata": {},
   "outputs": [],
   "source": [
    "from utils import *\n",
    "from heuristics import *"
   ]
  },
  {
   "cell_type": "code",
   "execution_count": 24,
   "metadata": {},
   "outputs": [
    {
     "name": "stdout",
     "output_type": "stream",
     "text": [
      "-------------------\n",
      "t =  0\n",
      "-------------------\n",
      "t =  1\n",
      "-------------------\n",
      "t =  2\n",
      "-------------------\n",
      "t =  3\n",
      "-------------------\n",
      "t =  4\n",
      "-------------------\n",
      "t =  5\n",
      "-------------------\n",
      "t =  6\n",
      "-------------------\n",
      "t =  7\n",
      "-------------------\n",
      "t =  8\n",
      "-------------------\n",
      "t =  9\n",
      "-------------------\n",
      "t =  10\n",
      "-------------------\n",
      "t =  11\n",
      "-------------------\n",
      "t =  12\n",
      "-------------------\n",
      "t =  13\n",
      "-------------------\n",
      "t =  14\n"
     ]
    }
   ],
   "source": [
    "from utils import *\n",
    "from preprocessing import *\n",
    "import numpy as np\n",
    "from heuristics import *\n",
    "### Heuristic of checking hop-1 and hop-2 infections on PA network with avg 5 edges for each node ###\n",
    "T = 15\n",
    "PA = True\n",
    "edges = get_Edges(\"\",PA=True, PA_num=3)\n",
    "subset_size = 0.3    # at each time step, subset_size of the edges interacted from the whole graph \n",
    "infect_rate = 0.05\n",
    "k = 100\n",
    "delay =5\n",
    "if PA:\n",
    "    node_status = status_setup(1000,infect_rate)\n",
    "temporal_edges = sample(T, edges, subset_size)\n",
    "t_edges_index = temporal_edges[:,:,0:2].astype(int)\n",
    "t_edges_attr =  temporal_edges[:,:,2]\n",
    "\n",
    "\n",
    "infected_index = np.where(node_status[:,2] == 1)[0]\n",
    "\n",
    "detection_rate = np.zeros(T)\n",
    "total_summary_healthy = np.zeros(T)\n",
    "# Examining infected neighbors \n",
    "for t in range(T):\n",
    "    print(\"-------------------\")\n",
    "    print(\"t = \",t)\n",
    "    if t!=0:\n",
    "        SEIR_update(node_status,t_edges_index[t-1], t_edges_attr[t-1],t,delay)\n",
    "    #status_summary(node_status)\n",
    "    #adj_lst = Adjacency_List(\"data/ca-GrQc.txt\")\n",
    "    \n",
    "    adj_lst = Adjacency_List(\"\",arr = t_edges_index[t])\n",
    "    test_lst = infected_neigh(adj_lst,infected_index,k)\n",
    "    for n in test_lst:\n",
    "        if node_status[n,2]==1:\n",
    "            node_status[n,2]=0\n",
    "            node_status[n,-1]=1\n",
    "            detection_rate[t]+=1\n",
    "        elif node_status[n,1]>0:\n",
    "            node_status[n,1]=0\n",
    "            node_status[n,-1]=1\n",
    "            detection_rate[t]+=1\n",
    "    total_summary_healthy[t],_,_,_ = status_summary(node_status)\n",
    "\n",
    "detection_rate = detection_rate/k"
   ]
  },
  {
   "cell_type": "code",
   "execution_count": 25,
   "metadata": {},
   "outputs": [
    {
     "data": {
      "text/plain": [
       "[0.959,\n",
       " 0.891,\n",
       " 0.836,\n",
       " 0.741,\n",
       " 0.651,\n",
       " 0.516,\n",
       " 0.408,\n",
       " 0.283,\n",
       " 0.205,\n",
       " 0.128,\n",
       " 0.082,\n",
       " 0.054,\n",
       " 0.023,\n",
       " 0.016,\n",
       " 0.014]"
      ]
     },
     "execution_count": 25,
     "metadata": {},
     "output_type": "execute_result"
    }
   ],
   "source": [
    "list(total_summary_healthy/1000)"
   ]
  },
  {
   "cell_type": "code",
   "execution_count": 97,
   "metadata": {},
   "outputs": [
    {
     "data": {
      "text/plain": [
       "[0.0, 0.0, 0.0, 0.0, 0.0, 0.0, 0.0, 0.0, 0.0, 0.0, 0.0, 0.0, 0.0, 0.0, 0.0]"
      ]
     },
     "execution_count": 97,
     "metadata": {},
     "output_type": "execute_result"
    }
   ],
   "source": [
    "list(detection_rate)"
   ]
  },
  {
   "cell_type": "markdown",
   "metadata": {},
   "source": []
  },
  {
   "cell_type": "code",
   "execution_count": 8,
   "metadata": {},
   "outputs": [],
   "source": [
    "detection_rate = detection_rate/k"
   ]
  },
  {
   "cell_type": "code",
   "execution_count": 5,
   "metadata": {},
   "outputs": [
    {
     "data": {
      "text/plain": [
       "[0,\n",
       " 1,\n",
       " 2,\n",
       " 3,\n",
       " 4,\n",
       " 5,\n",
       " 6,\n",
       " 7,\n",
       " 8,\n",
       " 9,\n",
       " 10,\n",
       " 11,\n",
       " 12,\n",
       " 13,\n",
       " 14,\n",
       " 15,\n",
       " 16,\n",
       " 17,\n",
       " 18,\n",
       " 19,\n",
       " 20,\n",
       " 21,\n",
       " 22,\n",
       " 23,\n",
       " 24,\n",
       " 25,\n",
       " 26,\n",
       " 27,\n",
       " 28,\n",
       " 29]"
      ]
     },
     "execution_count": 5,
     "metadata": {},
     "output_type": "execute_result"
    }
   ],
   "source": []
  },
  {
   "cell_type": "code",
   "execution_count": 23,
   "metadata": {},
   "outputs": [],
   "source": [
    "import torch"
   ]
  },
  {
   "cell_type": "code",
   "execution_count": 32,
   "metadata": {},
   "outputs": [],
   "source": [
    "probability = k_node_sample_prob(torch.tensor([1,4,3,5,3,3,4,2,3,2]))"
   ]
  },
  {
   "cell_type": "code",
   "execution_count": 31,
   "metadata": {},
   "outputs": [],
   "source": [
    "node_status = status_setup(10,0.2)\n"
   ]
  },
  {
   "cell_type": "code",
   "execution_count": 35,
   "metadata": {},
   "outputs": [],
   "source": [
    "node_status[1,3]=1\n",
    "node_status[-1,3]=1\n"
   ]
  },
  {
   "cell_type": "code",
   "execution_count": 36,
   "metadata": {},
   "outputs": [],
   "source": [
    "isolated_index = np.where(node_status[:,3] == 1)[0]\n"
   ]
  },
  {
   "cell_type": "code",
   "execution_count": 37,
   "metadata": {},
   "outputs": [
    {
     "data": {
      "text/plain": [
       "array([1, 9])"
      ]
     },
     "execution_count": 37,
     "metadata": {},
     "output_type": "execute_result"
    }
   ],
   "source": [
    "isolated_index"
   ]
  },
  {
   "cell_type": "code",
   "execution_count": 38,
   "metadata": {},
   "outputs": [
    {
     "data": {
      "text/plain": [
       "tensor([0.0005, 0.1498, 0.1000, 0.1995, 0.1000, 0.1000, 0.1498, 0.0502, 0.1000,\n",
       "        0.0502])"
      ]
     },
     "execution_count": 38,
     "metadata": {},
     "output_type": "execute_result"
    }
   ],
   "source": [
    "probability"
   ]
  },
  {
   "cell_type": "code",
   "execution_count": 39,
   "metadata": {},
   "outputs": [],
   "source": [
    "probability[isolated_index]=0"
   ]
  },
  {
   "cell_type": "code",
   "execution_count": 40,
   "metadata": {},
   "outputs": [
    {
     "data": {
      "text/plain": [
       "tensor([0.0005, 0.0000, 0.1000, 0.1995, 0.1000, 0.1000, 0.1498, 0.0502, 0.1000,\n",
       "        0.0000])"
      ]
     },
     "execution_count": 40,
     "metadata": {},
     "output_type": "execute_result"
    }
   ],
   "source": [
    "probability"
   ]
  },
  {
   "cell_type": "code",
   "execution_count": 72,
   "metadata": {},
   "outputs": [
    {
     "data": {
      "text/plain": [
       "array([[  0,   6],\n",
       "       [  0,   7],\n",
       "       [  0,   8],\n",
       "       ...,\n",
       "       [999, 290],\n",
       "       [999, 300],\n",
       "       [999, 466]])"
      ]
     },
     "execution_count": 72,
     "metadata": {},
     "output_type": "execute_result"
    }
   ],
   "source": [
    "barabasi_albert_graph(1000, 5).t().numpy()"
   ]
  },
  {
   "cell_type": "code",
   "execution_count": 10,
   "metadata": {},
   "outputs": [],
   "source": [
    "r = torch.rand(4,4)"
   ]
  },
  {
   "cell_type": "code",
   "execution_count": null,
   "metadata": {},
   "outputs": [],
   "source": [
    "n = np.asarray([1,2])"
   ]
  },
  {
   "cell_type": "code",
   "execution_count": 12,
   "metadata": {},
   "outputs": [
    {
     "data": {
      "text/plain": [
       "tensor([[0.3732, 0.5803, 0.6686, 0.5344],\n",
       "        [0.4519, 0.9871, 0.9970, 0.6567],\n",
       "        [0.7766, 0.7772, 0.9607, 0.1897],\n",
       "        [0.2886, 0.0929, 0.9385, 0.7903]])"
      ]
     },
     "execution_count": 12,
     "metadata": {},
     "output_type": "execute_result"
    }
   ],
   "source": [
    "r"
   ]
  },
  {
   "cell_type": "code",
   "execution_count": 13,
   "metadata": {},
   "outputs": [],
   "source": [
    "r[n,2]=0"
   ]
  },
  {
   "cell_type": "code",
   "execution_count": 14,
   "metadata": {},
   "outputs": [
    {
     "data": {
      "text/plain": [
       "tensor([[0.3732, 0.5803, 0.6686, 0.5344],\n",
       "        [0.4519, 0.9871, 0.0000, 0.6567],\n",
       "        [0.7766, 0.7772, 0.0000, 0.1897],\n",
       "        [0.2886, 0.0929, 0.9385, 0.7903]])"
      ]
     },
     "execution_count": 14,
     "metadata": {},
     "output_type": "execute_result"
    }
   ],
   "source": [
    "r"
   ]
  },
  {
   "cell_type": "code",
   "execution_count": 74,
   "metadata": {},
   "outputs": [
    {
     "name": "stdout",
     "output_type": "stream",
     "text": [
      "-------------------\n",
      "t =  0\n",
      "-------------------\n",
      "t =  1\n",
      "-------------------\n",
      "t =  2\n",
      "-------------------\n",
      "t =  3\n",
      "-------------------\n",
      "t =  4\n",
      "-------------------\n",
      "t =  5\n",
      "-------------------\n",
      "t =  6\n",
      "-------------------\n",
      "t =  7\n",
      "-------------------\n",
      "t =  8\n",
      "-------------------\n",
      "t =  9\n",
      "-------------------\n",
      "t =  10\n",
      "-------------------\n",
      "t =  11\n",
      "-------------------\n",
      "t =  12\n",
      "-------------------\n",
      "t =  13\n",
      "-------------------\n",
      "t =  14\n"
     ]
    }
   ],
   "source": [
    "from utils import *\n",
    "from preprocessing import *\n",
    "import numpy as np\n",
    "from heuristics import *\n",
    "\n",
    "### Heuristic of checking hop-1 and hop-2 infections on collaboration network ###\n",
    "\n",
    "T = 15\n",
    "subset_size = 0.3    # at each time step, subset_size of the edges interacted from the whole graph \n",
    "infect_rate = 0.1\n",
    "k = 100\n",
    "delay =5\n",
    "\n",
    "\n",
    "edges = get_Edges(\"data/ca-GrQc.txt\")\n",
    "with open('node_features.npy', 'rb') as f:\n",
    "    node_features = np.load(f)\n",
    "\n",
    "\n",
    "node_status = status_setup(len(node_features),infect_rate)\n",
    "temporal_edges = sample(T, edges, subset_size)\n",
    "t_edges_index = temporal_edges[:,:,0:2].astype(int)\n",
    "t_edges_attr =  temporal_edges[:,:,2]\n",
    "\n",
    "\n",
    "infected_index = np.where(node_status[:,2] == 1)[0]\n",
    "\n",
    "detection_rate = np.zeros(T)\n",
    "total_summary_healthy = np.zeros(T)\n",
    "\n",
    "# Examining infected neighbors \n",
    "for t in range(T):\n",
    "    print(\"-------------------\")\n",
    "    print(\"t = \",t)\n",
    "    if t!=0:\n",
    "        SEIR_update(node_status,t_edges_index[t-1], t_edges_attr[t-1],t,delay)\n",
    "    status_summary(node_status)\n",
    "    adj_lst = Adjacency_List(\"data/ca-GrQc.txt\")\n",
    "    adj_lst = Adjacency_List(\"\",arr = t_edges_index[t])\n",
    "    test_lst = infected_neigh(adj_lst,infected_index,k)\n",
    "    for n in test_lst:\n",
    "        if node_status[n,2]==1:\n",
    "            node_status[n,2]=0\n",
    "            node_status[n,-1]=1\n",
    "            detection_rate[t]+=1\n",
    "        elif node_status[n,1]>0:\n",
    "            node_status[n,1]=0\n",
    "            node_status[n,-1]=1\n",
    "            detection_rate[t]+=1\n",
    "    total_summary_healthy[t],_,_,_ = status_summary(node_status)\n",
    "\n",
    "detection_rate = detection_rate/k"
   ]
  },
  {
   "cell_type": "code",
   "execution_count": 75,
   "metadata": {},
   "outputs": [
    {
     "data": {
      "text/plain": [
       "array([0.89622282, 0.81190385, 0.75162152, 0.65223197, 0.56982068,\n",
       "       0.48550172, 0.41549027, 0.36035864, 0.31228539, 0.27813812,\n",
       "       0.25333842, 0.23178176, 0.21709271, 0.20144983, 0.19114842])"
      ]
     },
     "execution_count": 75,
     "metadata": {},
     "output_type": "execute_result"
    }
   ],
   "source": [
    "total_summary_healthy/5242"
   ]
  },
  {
   "cell_type": "code",
   "execution_count": 6,
   "metadata": {},
   "outputs": [],
   "source": [
    "import torch\n",
    "from torch_geometric.nn import GCNConv, MessagePassing,Sequential, NNConv\n",
    "from torch_geometric.nn import NNConv\n",
    "import torch.nn as nn"
   ]
  },
  {
   "cell_type": "code",
   "execution_count": 7,
   "metadata": {},
   "outputs": [],
   "source": [
    " \n",
    "rnn = nn.GRU(10, 20, 2)"
   ]
  },
  {
   "cell_type": "code",
   "execution_count": 8,
   "metadata": {},
   "outputs": [],
   "source": [
    "input = torch.randn(5, 3, 10)"
   ]
  },
  {
   "cell_type": "code",
   "execution_count": 9,
   "metadata": {},
   "outputs": [
    {
     "data": {
      "text/plain": [
       "torch.Size([5, 3, 10])"
      ]
     },
     "execution_count": 9,
     "metadata": {},
     "output_type": "execute_result"
    }
   ],
   "source": [
    "input.shape"
   ]
  },
  {
   "cell_type": "code",
   "execution_count": 10,
   "metadata": {},
   "outputs": [],
   "source": [
    "h0 = torch.randn(2, 3, 20)"
   ]
  },
  {
   "cell_type": "code",
   "execution_count": 12,
   "metadata": {},
   "outputs": [
    {
     "data": {
      "text/plain": [
       "torch.Size([2, 3, 20])"
      ]
     },
     "execution_count": 12,
     "metadata": {},
     "output_type": "execute_result"
    }
   ],
   "source": [
    "h0.shape"
   ]
  },
  {
   "cell_type": "code",
   "execution_count": 13,
   "metadata": {},
   "outputs": [],
   "source": [
    "output, hn = rnn(input, h0)"
   ]
  },
  {
   "cell_type": "code",
   "execution_count": 2,
   "metadata": {},
   "outputs": [
    {
     "name": "stdout",
     "output_type": "stream",
     "text": [
      "-------------------\n",
      "t =  0\n",
      "-------------------\n",
      "t =  1\n",
      "-------------------\n",
      "t =  2\n",
      "-------------------\n",
      "t =  3\n",
      "-------------------\n",
      "t =  4\n",
      "-------------------\n",
      "t =  5\n",
      "-------------------\n",
      "t =  6\n",
      "-------------------\n",
      "t =  7\n",
      "-------------------\n",
      "t =  8\n",
      "-------------------\n",
      "t =  9\n",
      "-------------------\n",
      "t =  10\n",
      "-------------------\n",
      "t =  11\n",
      "-------------------\n",
      "t =  12\n",
      "-------------------\n",
      "t =  13\n",
      "-------------------\n",
      "t =  14\n"
     ]
    }
   ],
   "source": [
    "from utils import *\n",
    "from preprocessing import *\n",
    "import numpy as np\n",
    "from heuristics import *\n",
    "\n",
    "### Each node test every 2 time step / half of the average incubation period ###\n",
    "\n",
    "T = 15\n",
    "subset_size = 0.3    # at each time step, subset_size of the edges interacted from the whole graph \n",
    "infect_rate = 0.05\n",
    "k = 100\n",
    "delay =5\n",
    "\n",
    "\n",
    "edges = get_Edges(\"data/ca-GrQc.txt\")\n",
    "with open('node_features.npy', 'rb') as f:\n",
    "    node_features = np.load(f)\n",
    "\n",
    "\n",
    "node_status = status_setup(len(node_features),infect_rate)\n",
    "temporal_edges = sample(T, edges, subset_size)\n",
    "t_edges_index = temporal_edges[:,:,0:2].astype(int)\n",
    "t_edges_attr =  temporal_edges[:,:,2]\n",
    "\n",
    "\n",
    "infected_index = np.where(node_status[:,2] == 1)[0]\n",
    "\n",
    "detection_rate = np.zeros(T)\n",
    "total_summary_healthy = np.zeros(T)\n",
    "\n",
    "initial = np.random.randint(2,size = len(node_status))\n",
    "# Examining infected neighbors \n",
    "for t in range(T):\n",
    "    print(\"-------------------\")\n",
    "    print(\"t = \",t)\n",
    "    if t!=0:\n",
    "        SEIR_update(node_status,t_edges_index[t-1], t_edges_attr[t-1],t,delay)\n",
    "    status_summary(node_status)\n",
    "    \n",
    "    \n",
    "    test_lst = half_incubation(initial,t,k)\n",
    "    for n in test_lst:\n",
    "        if node_status[n,2]==1:\n",
    "            node_status[n,2]=0\n",
    "            node_status[n,-1]=1\n",
    "            detection_rate[t]+=1\n",
    "        elif node_status[n,1]>0:\n",
    "            node_status[n,1]=0\n",
    "            node_status[n,-1]=1\n",
    "            detection_rate[t]+=1\n",
    "    total_summary_healthy[t],_,_,_ = status_summary(node_status)\n",
    "\n",
    "detection_rate = detection_rate/k"
   ]
  },
  {
   "cell_type": "code",
   "execution_count": 91,
   "metadata": {},
   "outputs": [
    {
     "data": {
      "text/plain": [
       "array([0.94963754, 0.89698588, 0.85997711, 0.78347959, 0.72548646,\n",
       "       0.65299504, 0.5841282 , 0.51602442, 0.46108356, 0.4112934 ,\n",
       "       0.37390309, 0.34147272, 0.31705456, 0.29530713, 0.27546738])"
      ]
     },
     "execution_count": 91,
     "metadata": {},
     "output_type": "execute_result"
    }
   ],
   "source": [
    "total_summary_healthy/5242"
   ]
  },
  {
   "cell_type": "code",
   "execution_count": 4,
   "metadata": {},
   "outputs": [
    {
     "data": {
      "text/plain": [
       "False"
      ]
     },
     "execution_count": 4,
     "metadata": {},
     "output_type": "execute_result"
    }
   ],
   "source": [
    "9%10==0"
   ]
  },
  {
   "cell_type": "markdown",
   "metadata": {},
   "source": []
  }
 ],
 "metadata": {
  "interpreter": {
   "hash": "0926eea064b49c53f1ceb57063f268e32255c543f25f5c8db60444e7c32ad962"
  },
  "kernelspec": {
   "display_name": "Python 3.9.6 64-bit ('k-path': conda)",
   "language": "python",
   "name": "python3"
  },
  "language_info": {
   "codemirror_mode": {
    "name": "ipython",
    "version": 3
   },
   "file_extension": ".py",
   "mimetype": "text/x-python",
   "name": "python",
   "nbconvert_exporter": "python",
   "pygments_lexer": "ipython3",
   "version": "3.9.6"
  },
  "orig_nbformat": 4
 },
 "nbformat": 4,
 "nbformat_minor": 2
}
