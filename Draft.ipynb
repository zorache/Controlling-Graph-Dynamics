{
 "cells": [
  {
   "cell_type": "code",
   "execution_count": 30,
   "id": "9a4ea6a8",
   "metadata": {},
   "outputs": [],
   "source": [
    "import csv\n",
    "import pandas as pd\n",
    "import numpy as np\n",
    "import torch\n",
    "\n",
    "\n",
    "\n",
    "#data = Data(x = embeddings_features,edge_index=t.t().contiguous())"
   ]
  },
  {
   "cell_type": "code",
   "execution_count": 15,
   "id": "19b6f915",
   "metadata": {},
   "outputs": [],
   "source": [
    "import networkx as nx"
   ]
  },
  {
   "cell_type": "code",
   "execution_count": 17,
   "id": "28be6123",
   "metadata": {},
   "outputs": [],
   "source": [
    "# Nodes: 5242 Edges: 28980\n",
    "G = nx.read_edgelist(\"data/ca-GrQc.txt\")"
   ]
  },
  {
   "cell_type": "code",
   "execution_count": 21,
   "id": "f6b8326c",
   "metadata": {},
   "outputs": [],
   "source": [
    "betweenness= nx.betweenness_centrality(G)"
   ]
  },
  {
   "cell_type": "code",
   "execution_count": 25,
   "id": "6331eec4",
   "metadata": {},
   "outputs": [],
   "source": [
    "degree = nx.degree_centrality(G)"
   ]
  },
  {
   "cell_type": "code",
   "execution_count": 27,
   "id": "ee32ade1",
   "metadata": {},
   "outputs": [],
   "source": [
    "eigenvector = nx.eigenvector_centrality(G)"
   ]
  },
  {
   "cell_type": "code",
   "execution_count": 28,
   "id": "d53b6f24",
   "metadata": {},
   "outputs": [],
   "source": [
    "closeness = nx.closeness_centrality(G)"
   ]
  },
  {
   "cell_type": "code",
   "execution_count": 39,
   "id": "f2e5083d",
   "metadata": {},
   "outputs": [],
   "source": [
    "df = pd.read_csv(\"data/ca-GrQc.txt\", header=None,sep=\"\\t\",skiprows=4)"
   ]
  },
  {
   "cell_type": "code",
   "execution_count": 48,
   "id": "becce806",
   "metadata": {},
   "outputs": [
    {
     "data": {
      "text/plain": [
       "5242"
      ]
     },
     "execution_count": 48,
     "metadata": {},
     "output_type": "execute_result"
    }
   ],
   "source": [
    "len(degree)"
   ]
  },
  {
   "cell_type": "code",
   "execution_count": 49,
   "id": "1fa27bdd",
   "metadata": {},
   "outputs": [],
   "source": [
    "# One-hot: untested, tested positive, tested negative, positive-in-the-past\n",
    "dynamic = np.zeros((len(degree),4))"
   ]
  },
  {
   "cell_type": "code",
   "execution_count": 64,
   "id": "d15b1b98",
   "metadata": {},
   "outputs": [],
   "source": [
    "keys=[int(n) for n in list(betweenness.keys())]"
   ]
  },
  {
   "cell_type": "code",
   "execution_count": 66,
   "id": "479b9f23",
   "metadata": {},
   "outputs": [],
   "source": [
    "sorted_keys = sorted(keys)"
   ]
  },
  {
   "cell_type": "code",
   "execution_count": 72,
   "id": "4132d305",
   "metadata": {},
   "outputs": [],
   "source": [
    "betweenness_vec=[]\n",
    "closeness_vec=[]\n",
    "eigenvector_vec=[]\n",
    "degree_vec=[]\n",
    "for n in sorted_keys:\n",
    "    betweenness_vec.append(betweenness[str(n)])\n",
    "    closeness_vec.append(closeness[str(n)])\n",
    "    eigenvector_vec.append(eigenvector[str(n)])\n",
    "    degree_vec.append(degree[str(n)])"
   ]
  },
  {
   "cell_type": "code",
   "execution_count": 77,
   "id": "45cc5605",
   "metadata": {},
   "outputs": [],
   "source": [
    "betweenness_vec = np.asarray(betweenness_vec)\n",
    "closeness_vec = np.asarray(closeness_vec)\n",
    "eigenvector_vec = np.asarray(eigenvector_vec)\n",
    "degree_vec = np.asarray(degree_vec)"
   ]
  },
  {
   "cell_type": "code",
   "execution_count": 90,
   "id": "eda94238",
   "metadata": {},
   "outputs": [],
   "source": [
    "static = np.stack((betweenness_vec,closeness_vec,eigenvector_vec,degree_vec),axis=1)"
   ]
  },
  {
   "cell_type": "code",
   "execution_count": 91,
   "id": "5974bb8b",
   "metadata": {},
   "outputs": [
    {
     "data": {
      "text/plain": [
       "(5242, 4)"
      ]
     },
     "execution_count": 91,
     "metadata": {},
     "output_type": "execute_result"
    }
   ],
   "source": [
    "static.shape"
   ]
  },
  {
   "cell_type": "code",
   "execution_count": 101,
   "id": "b690a176",
   "metadata": {},
   "outputs": [],
   "source": [
    "node_features = np.concatenate((static,dynamic),axis=1)"
   ]
  },
  {
   "cell_type": "code",
   "execution_count": 103,
   "id": "6d4896d3",
   "metadata": {},
   "outputs": [],
   "source": [
    "t=25"
   ]
  },
  {
   "cell_type": "markdown",
   "id": "4cb00daa",
   "metadata": {},
   "source": [
    "### Mapping"
   ]
  },
  {
   "cell_type": "code",
   "execution_count": 104,
   "id": "079f6e2e",
   "metadata": {},
   "outputs": [],
   "source": [
    "edges =df.values"
   ]
  },
  {
   "cell_type": "code",
   "execution_count": 105,
   "id": "777fdfd1",
   "metadata": {},
   "outputs": [
    {
     "data": {
      "text/plain": [
       "(28980, 2)"
      ]
     },
     "execution_count": 105,
     "metadata": {},
     "output_type": "execute_result"
    }
   ],
   "source": [
    "edges.shape"
   ]
  },
  {
   "cell_type": "code",
   "execution_count": 179,
   "id": "601926b4",
   "metadata": {},
   "outputs": [],
   "source": [
    "all_nodes = np.unique(edges.T[0])   # We just need to find all unique occurences in one column only since the matrix contains undirected entries (each edge appears twice in reversed direction)\n",
    "all_nodes.shape\n",
    "\n",
    "edge_index = np.zeros(edges.shape)\n",
    "\n",
    "dict_map = {k: v for v, k in enumerate(all_nodes)}\n",
    "\n",
    "for i in range(edge_index.shape[0]):\n",
    "    for j in range(edge_index.shape[1]):\n",
    "        edge_index[i,j] = dict_map[edges[i,j]]\n",
    "\n"
   ]
  },
  {
   "cell_type": "code",
   "execution_count": 107,
   "id": "384a52d4",
   "metadata": {},
   "outputs": [],
   "source": [
    "from numpy.random import default_rng\n"
   ]
  },
  {
   "cell_type": "code",
   "execution_count": 147,
   "id": "5030fa66",
   "metadata": {},
   "outputs": [],
   "source": [
    "# t: how many time steps\n",
    "# num_edges: how many edges in the network\n",
    "# subset_size: how big the subset to pick from total edges\n",
    "def sample(t, edges, subset_size):\n",
    "    num_edges=len(edges)\n",
    "    t_edges = np.zeros((t,int(subset_size*num_edges),3))\n",
    "    rng = default_rng()\n",
    "    for i in range(t):\n",
    "        vals = rng.integers(low=0, high=len(edges)-1, size=int(num_edges*subset_size))\n",
    "        edges_sub = edges[vals]\n",
    "        vals_p = rng.uniform(low = 0.5, high = 1.0, size = int(num_edges*subset_size))\n",
    "        vals_p = vals_p.reshape((-1, 1))\n",
    "        combined = np.concatenate((edges_sub,vals_p),axis=1)\n",
    "        t_edges[i]=combined\n",
    "    return t_edges\n",
    "    "
   ]
  },
  {
   "cell_type": "code",
   "execution_count": 182,
   "id": "eea229c0",
   "metadata": {},
   "outputs": [],
   "source": [
    "t_edges= sample(10,edge_index,0.1)"
   ]
  },
  {
   "cell_type": "code",
   "execution_count": 183,
   "id": "8eaf4f88",
   "metadata": {},
   "outputs": [
    {
     "data": {
      "text/plain": [
       "(10, 2898, 3)"
      ]
     },
     "execution_count": 183,
     "metadata": {},
     "output_type": "execute_result"
    }
   ],
   "source": [
    "t_edges.shape"
   ]
  },
  {
   "cell_type": "code",
   "execution_count": 151,
   "id": "337e4970",
   "metadata": {},
   "outputs": [],
   "source": [
    "class Local_Diffusion(torch.nn.Module):\n",
    "    def __init__(self,data):\n",
    "        super().__init__()\n",
    "        self.conv1 = GCNConv(data.num_node_features, 64)\n",
    "\n",
    "    def forward(self, data):\n",
    "        x, edge_index = data.x, data.edge_index\n",
    "        result = self.conv1(x, edge_index,edge_weight = data.edge_attr)\n",
    "        result = F.relu(result)\n",
    "        return result"
   ]
  },
  {
   "cell_type": "code",
   "execution_count": 184,
   "id": "6df3f985",
   "metadata": {},
   "outputs": [],
   "source": [
    "t_edges_index = t_edges[:,:,0:2]"
   ]
  },
  {
   "cell_type": "code",
   "execution_count": 185,
   "id": "710f92dd",
   "metadata": {},
   "outputs": [],
   "source": [
    "t_edges_index= t_edges_index.astype(int)"
   ]
  },
  {
   "cell_type": "code",
   "execution_count": 186,
   "id": "efc23bf1",
   "metadata": {},
   "outputs": [],
   "source": [
    "t = torch.from_numpy(edge_index)"
   ]
  },
  {
   "cell_type": "code",
   "execution_count": 187,
   "id": "ebb561b5",
   "metadata": {},
   "outputs": [],
   "source": [
    "t_edges_attr =  t_edges[:,:,2]"
   ]
  },
  {
   "cell_type": "code",
   "execution_count": 205,
   "id": "8844f433",
   "metadata": {},
   "outputs": [],
   "source": [
    "import sys"
   ]
  },
  {
   "cell_type": "code",
   "execution_count": 206,
   "id": "f625d1d1",
   "metadata": {},
   "outputs": [],
   "source": [
    "sys.path.append(\"/usr/bin/gcc\")"
   ]
  },
  {
   "cell_type": "code",
   "execution_count": 207,
   "id": "5b903b13",
   "metadata": {},
   "outputs": [
    {
     "name": "stdout",
     "output_type": "stream",
     "text": [
      "Defaulting to user installation because normal site-packages is not writeable\n",
      "Collecting torch_sparse\n",
      "  Downloading torch_sparse-0.6.12.tar.gz (43 kB)\n",
      "     |████████████████████████████████| 43 kB 6.8 MB/s             \n",
      "\u001b[?25h  Preparing metadata (setup.py) ... \u001b[?25ldone\n",
      "\u001b[?25hRequirement already satisfied: scipy in /share/pkg.7/python3/3.8.10/install/lib/python3.8/site-packages/scipy-1.6.2-py3.8-linux-x86_64.egg (from torch_sparse) (1.6.2)\n",
      "Requirement already satisfied: numpy<1.23.0,>=1.16.5 in /share/pkg.7/tensorflow/2.3.1/install/lib/python3.8/site-packages (from scipy->torch_sparse) (1.18.5)\n",
      "Building wheels for collected packages: torch-sparse\n",
      "  Building wheel for torch-sparse (setup.py) ... \u001b[?25lerror\n",
      "\u001b[31m  ERROR: Command errored out with exit status 1:\n",
      "   command: /share/pkg.7/python3/3.8.10/install/bin/python3.8 -u -c 'import io, os, sys, setuptools, tokenize; sys.argv[0] = '\"'\"'/scratch/1142539.1.academic-gpu/pip-install-uhhu6ggl/torch-sparse_3c4d9f2415c1426d9b99f4f29c7cefa7/setup.py'\"'\"'; __file__='\"'\"'/scratch/1142539.1.academic-gpu/pip-install-uhhu6ggl/torch-sparse_3c4d9f2415c1426d9b99f4f29c7cefa7/setup.py'\"'\"';f = getattr(tokenize, '\"'\"'open'\"'\"', open)(__file__) if os.path.exists(__file__) else io.StringIO('\"'\"'from setuptools import setup; setup()'\"'\"');code = f.read().replace('\"'\"'\\r\\n'\"'\"', '\"'\"'\\n'\"'\"');f.close();exec(compile(code, __file__, '\"'\"'exec'\"'\"'))' bdist_wheel -d /scratch/1142539.1.academic-gpu/pip-wheel-ifj62lyo\n",
      "       cwd: /scratch/1142539.1.academic-gpu/pip-install-uhhu6ggl/torch-sparse_3c4d9f2415c1426d9b99f4f29c7cefa7/\n",
      "  Complete output (57 lines):\n",
      "  running bdist_wheel\n",
      "  running build\n",
      "  running build_py\n",
      "  creating build\n",
      "  creating build/lib.linux-x86_64-3.8\n",
      "  creating build/lib.linux-x86_64-3.8/torch_sparse\n",
      "  copying torch_sparse/spspmm.py -> build/lib.linux-x86_64-3.8/torch_sparse\n",
      "  copying torch_sparse/sample.py -> build/lib.linux-x86_64-3.8/torch_sparse\n",
      "  copying torch_sparse/masked_select.py -> build/lib.linux-x86_64-3.8/torch_sparse\n",
      "  copying torch_sparse/__init__.py -> build/lib.linux-x86_64-3.8/torch_sparse\n",
      "  copying torch_sparse/rw.py -> build/lib.linux-x86_64-3.8/torch_sparse\n",
      "  copying torch_sparse/cat.py -> build/lib.linux-x86_64-3.8/torch_sparse\n",
      "  copying torch_sparse/matmul.py -> build/lib.linux-x86_64-3.8/torch_sparse\n",
      "  copying torch_sparse/padding.py -> build/lib.linux-x86_64-3.8/torch_sparse\n",
      "  copying torch_sparse/spmm.py -> build/lib.linux-x86_64-3.8/torch_sparse\n",
      "  copying torch_sparse/utils.py -> build/lib.linux-x86_64-3.8/torch_sparse\n",
      "  copying torch_sparse/convert.py -> build/lib.linux-x86_64-3.8/torch_sparse\n",
      "  copying torch_sparse/index_select.py -> build/lib.linux-x86_64-3.8/torch_sparse\n",
      "  copying torch_sparse/permute.py -> build/lib.linux-x86_64-3.8/torch_sparse\n",
      "  copying torch_sparse/bandwidth.py -> build/lib.linux-x86_64-3.8/torch_sparse\n",
      "  copying torch_sparse/saint.py -> build/lib.linux-x86_64-3.8/torch_sparse\n",
      "  copying torch_sparse/mul.py -> build/lib.linux-x86_64-3.8/torch_sparse\n",
      "  copying torch_sparse/coalesce.py -> build/lib.linux-x86_64-3.8/torch_sparse\n",
      "  copying torch_sparse/narrow.py -> build/lib.linux-x86_64-3.8/torch_sparse\n",
      "  copying torch_sparse/reduce.py -> build/lib.linux-x86_64-3.8/torch_sparse\n",
      "  copying torch_sparse/transpose.py -> build/lib.linux-x86_64-3.8/torch_sparse\n",
      "  copying torch_sparse/eye.py -> build/lib.linux-x86_64-3.8/torch_sparse\n",
      "  copying torch_sparse/select.py -> build/lib.linux-x86_64-3.8/torch_sparse\n",
      "  copying torch_sparse/storage.py -> build/lib.linux-x86_64-3.8/torch_sparse\n",
      "  copying torch_sparse/metis.py -> build/lib.linux-x86_64-3.8/torch_sparse\n",
      "  copying torch_sparse/diag.py -> build/lib.linux-x86_64-3.8/torch_sparse\n",
      "  copying torch_sparse/tensor.py -> build/lib.linux-x86_64-3.8/torch_sparse\n",
      "  copying torch_sparse/add.py -> build/lib.linux-x86_64-3.8/torch_sparse\n",
      "  running build_ext\n",
      "  /share/pkg.7/pytorch/1.9.0/install/lib/python3.8/site-packages/torch/utils/cpp_extension.py:312: UserWarning:\n",
      "  \n",
      "                                 !! WARNING !!\n",
      "  \n",
      "  !!!!!!!!!!!!!!!!!!!!!!!!!!!!!!!!!!!!!!!!!!!!!!!!!!!!!!!!!!!!!!!!!!!!!!!!!!!!!!!\n",
      "  Your compiler (g++ 4.8.5) may be ABI-incompatible with PyTorch!\n",
      "  Please use a compiler that is ABI-compatible with GCC 5.0 and above.\n",
      "  See https://gcc.gnu.org/onlinedocs/libstdc++/manual/abi.html.\n",
      "  \n",
      "  See https://gist.github.com/goldsborough/d466f43e8ffc948ff92de7486c5216d6\n",
      "  for instructions on how to install GCC 5 or higher.\n",
      "  !!!!!!!!!!!!!!!!!!!!!!!!!!!!!!!!!!!!!!!!!!!!!!!!!!!!!!!!!!!!!!!!!!!!!!!!!!!!!!!\n",
      "  \n",
      "                                !! WARNING !!\n",
      "  \n",
      "    warnings.warn(ABI_INCOMPATIBILITY_WARNING.format(compiler))\n",
      "  building 'torch_sparse._spmm_cpu' extension\n",
      "  creating build/temp.linux-x86_64-3.8\n",
      "  creating build/temp.linux-x86_64-3.8/csrc\n",
      "  creating build/temp.linux-x86_64-3.8/csrc/cpu\n",
      "  gcc -pthread -Wno-unused-result -Wsign-compare -DNDEBUG -g -fwrapv -O3 -Wall -O3 -g -fPIC -Icsrc -I/share/pkg.7/pytorch/1.9.0/install/lib/python3.8/site-packages/torch/include -I/share/pkg.7/pytorch/1.9.0/install/lib/python3.8/site-packages/torch/include/torch/csrc/api/include -I/share/pkg.7/pytorch/1.9.0/install/lib/python3.8/site-packages/torch/include/TH -I/share/pkg.7/pytorch/1.9.0/install/lib/python3.8/site-packages/torch/include/THC -I/share/pkg.7/python3/3.8.10/install/include/python3.8 -c csrc/spmm.cpp -o build/temp.linux-x86_64-3.8/csrc/spmm.o -O2 -DAT_PARALLEL_OPENMP -fopenmp -DTORCH_API_INCLUDE_EXTENSION_H -DPYBIND11_COMPILER_TYPE=\"_gcc\" -DPYBIND11_STDLIB=\"_libstdcpp\" -DPYBIND11_BUILD_ABI=\"_cxxabi1011\" -DTORCH_EXTENSION_NAME=_spmm_cpu -D_GLIBCXX_USE_CXX11_ABI=0 -std=c++14\n",
      "  gcc: error: unrecognized command line option '-std=c++14'\n",
      "  error: command 'gcc' failed with exit status 1\n",
      "  ----------------------------------------\u001b[0m\n",
      "\u001b[31m  ERROR: Failed building wheel for torch-sparse\u001b[0m\n",
      "\u001b[?25h  Running setup.py clean for torch-sparse\n",
      "Failed to build torch-sparse\n",
      "Installing collected packages: torch-sparse\n",
      "    Running setup.py install for torch-sparse ... \u001b[?25lerror\n",
      "\u001b[31m    ERROR: Command errored out with exit status 1:\n",
      "     command: /share/pkg.7/python3/3.8.10/install/bin/python3.8 -u -c 'import io, os, sys, setuptools, tokenize; sys.argv[0] = '\"'\"'/scratch/1142539.1.academic-gpu/pip-install-uhhu6ggl/torch-sparse_3c4d9f2415c1426d9b99f4f29c7cefa7/setup.py'\"'\"'; __file__='\"'\"'/scratch/1142539.1.academic-gpu/pip-install-uhhu6ggl/torch-sparse_3c4d9f2415c1426d9b99f4f29c7cefa7/setup.py'\"'\"';f = getattr(tokenize, '\"'\"'open'\"'\"', open)(__file__) if os.path.exists(__file__) else io.StringIO('\"'\"'from setuptools import setup; setup()'\"'\"');code = f.read().replace('\"'\"'\\r\\n'\"'\"', '\"'\"'\\n'\"'\"');f.close();exec(compile(code, __file__, '\"'\"'exec'\"'\"'))' install --record /scratch/1142539.1.academic-gpu/pip-record-bc_l8cfp/install-record.txt --single-version-externally-managed --user --prefix= --compile --install-headers /usr3/graduate/zche/.local/include/python3.8/torch-sparse\n",
      "         cwd: /scratch/1142539.1.academic-gpu/pip-install-uhhu6ggl/torch-sparse_3c4d9f2415c1426d9b99f4f29c7cefa7/\n",
      "    Complete output (57 lines):\n",
      "    running install\n",
      "    running build\n",
      "    running build_py\n",
      "    creating build\n",
      "    creating build/lib.linux-x86_64-3.8\n",
      "    creating build/lib.linux-x86_64-3.8/torch_sparse\n",
      "    copying torch_sparse/spspmm.py -> build/lib.linux-x86_64-3.8/torch_sparse\n",
      "    copying torch_sparse/sample.py -> build/lib.linux-x86_64-3.8/torch_sparse\n",
      "    copying torch_sparse/masked_select.py -> build/lib.linux-x86_64-3.8/torch_sparse\n",
      "    copying torch_sparse/__init__.py -> build/lib.linux-x86_64-3.8/torch_sparse\n",
      "    copying torch_sparse/rw.py -> build/lib.linux-x86_64-3.8/torch_sparse\n",
      "    copying torch_sparse/cat.py -> build/lib.linux-x86_64-3.8/torch_sparse\n",
      "    copying torch_sparse/matmul.py -> build/lib.linux-x86_64-3.8/torch_sparse\n",
      "    copying torch_sparse/padding.py -> build/lib.linux-x86_64-3.8/torch_sparse\n",
      "    copying torch_sparse/spmm.py -> build/lib.linux-x86_64-3.8/torch_sparse\n",
      "    copying torch_sparse/utils.py -> build/lib.linux-x86_64-3.8/torch_sparse\n",
      "    copying torch_sparse/convert.py -> build/lib.linux-x86_64-3.8/torch_sparse\n",
      "    copying torch_sparse/index_select.py -> build/lib.linux-x86_64-3.8/torch_sparse\n",
      "    copying torch_sparse/permute.py -> build/lib.linux-x86_64-3.8/torch_sparse\n",
      "    copying torch_sparse/bandwidth.py -> build/lib.linux-x86_64-3.8/torch_sparse\n",
      "    copying torch_sparse/saint.py -> build/lib.linux-x86_64-3.8/torch_sparse\n",
      "    copying torch_sparse/mul.py -> build/lib.linux-x86_64-3.8/torch_sparse\n",
      "    copying torch_sparse/coalesce.py -> build/lib.linux-x86_64-3.8/torch_sparse\n",
      "    copying torch_sparse/narrow.py -> build/lib.linux-x86_64-3.8/torch_sparse\n",
      "    copying torch_sparse/reduce.py -> build/lib.linux-x86_64-3.8/torch_sparse\n",
      "    copying torch_sparse/transpose.py -> build/lib.linux-x86_64-3.8/torch_sparse\n",
      "    copying torch_sparse/eye.py -> build/lib.linux-x86_64-3.8/torch_sparse\n",
      "    copying torch_sparse/select.py -> build/lib.linux-x86_64-3.8/torch_sparse\n",
      "    copying torch_sparse/storage.py -> build/lib.linux-x86_64-3.8/torch_sparse\n",
      "    copying torch_sparse/metis.py -> build/lib.linux-x86_64-3.8/torch_sparse\n",
      "    copying torch_sparse/diag.py -> build/lib.linux-x86_64-3.8/torch_sparse\n",
      "    copying torch_sparse/tensor.py -> build/lib.linux-x86_64-3.8/torch_sparse\n",
      "    copying torch_sparse/add.py -> build/lib.linux-x86_64-3.8/torch_sparse\n",
      "    running build_ext\n",
      "    /share/pkg.7/pytorch/1.9.0/install/lib/python3.8/site-packages/torch/utils/cpp_extension.py:312: UserWarning:\n",
      "    \n",
      "                                   !! WARNING !!\n",
      "    \n",
      "    !!!!!!!!!!!!!!!!!!!!!!!!!!!!!!!!!!!!!!!!!!!!!!!!!!!!!!!!!!!!!!!!!!!!!!!!!!!!!!!\n",
      "    Your compiler (g++ 4.8.5) may be ABI-incompatible with PyTorch!\n",
      "    Please use a compiler that is ABI-compatible with GCC 5.0 and above.\n",
      "    See https://gcc.gnu.org/onlinedocs/libstdc++/manual/abi.html.\n",
      "    \n",
      "    See https://gist.github.com/goldsborough/d466f43e8ffc948ff92de7486c5216d6\n",
      "    for instructions on how to install GCC 5 or higher.\n",
      "    !!!!!!!!!!!!!!!!!!!!!!!!!!!!!!!!!!!!!!!!!!!!!!!!!!!!!!!!!!!!!!!!!!!!!!!!!!!!!!!\n",
      "    \n",
      "                                  !! WARNING !!\n",
      "    \n",
      "      warnings.warn(ABI_INCOMPATIBILITY_WARNING.format(compiler))\n",
      "    building 'torch_sparse._spmm_cpu' extension\n",
      "    creating build/temp.linux-x86_64-3.8\n",
      "    creating build/temp.linux-x86_64-3.8/csrc\n",
      "    creating build/temp.linux-x86_64-3.8/csrc/cpu\n",
      "    gcc -pthread -Wno-unused-result -Wsign-compare -DNDEBUG -g -fwrapv -O3 -Wall -O3 -g -fPIC -Icsrc -I/share/pkg.7/pytorch/1.9.0/install/lib/python3.8/site-packages/torch/include -I/share/pkg.7/pytorch/1.9.0/install/lib/python3.8/site-packages/torch/include/torch/csrc/api/include -I/share/pkg.7/pytorch/1.9.0/install/lib/python3.8/site-packages/torch/include/TH -I/share/pkg.7/pytorch/1.9.0/install/lib/python3.8/site-packages/torch/include/THC -I/share/pkg.7/python3/3.8.10/install/include/python3.8 -c csrc/spmm.cpp -o build/temp.linux-x86_64-3.8/csrc/spmm.o -O2 -DAT_PARALLEL_OPENMP -fopenmp -DTORCH_API_INCLUDE_EXTENSION_H -DPYBIND11_COMPILER_TYPE=\"_gcc\" -DPYBIND11_STDLIB=\"_libstdcpp\" -DPYBIND11_BUILD_ABI=\"_cxxabi1011\" -DTORCH_EXTENSION_NAME=_spmm_cpu -D_GLIBCXX_USE_CXX11_ABI=0 -std=c++14\n",
      "    gcc: error: unrecognized command line option '-std=c++14'\n",
      "    error: command 'gcc' failed with exit status 1\n",
      "    ----------------------------------------\u001b[0m\n",
      "\u001b[31mERROR: Command errored out with exit status 1: /share/pkg.7/python3/3.8.10/install/bin/python3.8 -u -c 'import io, os, sys, setuptools, tokenize; sys.argv[0] = '\"'\"'/scratch/1142539.1.academic-gpu/pip-install-uhhu6ggl/torch-sparse_3c4d9f2415c1426d9b99f4f29c7cefa7/setup.py'\"'\"'; __file__='\"'\"'/scratch/1142539.1.academic-gpu/pip-install-uhhu6ggl/torch-sparse_3c4d9f2415c1426d9b99f4f29c7cefa7/setup.py'\"'\"';f = getattr(tokenize, '\"'\"'open'\"'\"', open)(__file__) if os.path.exists(__file__) else io.StringIO('\"'\"'from setuptools import setup; setup()'\"'\"');code = f.read().replace('\"'\"'\\r\\n'\"'\"', '\"'\"'\\n'\"'\"');f.close();exec(compile(code, __file__, '\"'\"'exec'\"'\"'))' install --record /scratch/1142539.1.academic-gpu/pip-record-bc_l8cfp/install-record.txt --single-version-externally-managed --user --prefix= --compile --install-headers /usr3/graduate/zche/.local/include/python3.8/torch-sparse Check the logs for full command output.\u001b[0m\n"
     ]
    },
    {
     "name": "stdout",
     "output_type": "stream",
     "text": [
      "\u001b[33mWARNING: You are using pip version 21.3; however, version 21.3.1 is available.\n",
      "You should consider upgrading via the '/share/pkg.7/python3/3.8.10/install/bin/python3.8 -m pip install --upgrade pip' command.\u001b[0m\n",
      "\u001b[?25hNote: you may need to restart the kernel to use updated packages.\n"
     ]
    }
   ],
   "source": [
    "pip install torch_sparse"
   ]
  },
  {
   "cell_type": "code",
   "execution_count": 201,
   "id": "c34a5abe",
   "metadata": {},
   "outputs": [
    {
     "name": "stdout",
     "output_type": "stream",
     "text": [
      "Using pip 21.3 from /usr3/graduate/zche/.local/lib/python3.8/site-packages/pip (python 3.8)\n",
      "Defaulting to user installation because normal site-packages is not writeable\n",
      "Collecting torch-sparse\n",
      "  Downloading torch_sparse-0.6.12.tar.gz (43 kB)\n",
      "     |████████████████████████████████| 43 kB 7.0 MB/s             \n",
      "  Running command python setup.py egg_info\n",
      "  running egg_info\n",
      "  creating /scratch/1142539.1.academic-gpu/pip-pip-egg-info-77sgqoo9/torch_sparse.egg-info\n",
      "  writing /scratch/1142539.1.academic-gpu/pip-pip-egg-info-77sgqoo9/torch_sparse.egg-info/PKG-INFO\n",
      "  writing dependency_links to /scratch/1142539.1.academic-gpu/pip-pip-egg-info-77sgqoo9/torch_sparse.egg-info/dependency_links.txt\n",
      "  writing requirements to /scratch/1142539.1.academic-gpu/pip-pip-egg-info-77sgqoo9/torch_sparse.egg-info/requires.txt\n",
      "  writing top-level names to /scratch/1142539.1.academic-gpu/pip-pip-egg-info-77sgqoo9/torch_sparse.egg-info/top_level.txt\n",
      "  writing manifest file '/scratch/1142539.1.academic-gpu/pip-pip-egg-info-77sgqoo9/torch_sparse.egg-info/SOURCES.txt'\n",
      "  reading manifest file '/scratch/1142539.1.academic-gpu/pip-pip-egg-info-77sgqoo9/torch_sparse.egg-info/SOURCES.txt'\n",
      "  reading manifest template 'MANIFEST.in'\n",
      "  warning: no previously-included files matching '*' found under directory 'test'\n",
      "  writing manifest file '/scratch/1142539.1.academic-gpu/pip-pip-egg-info-77sgqoo9/torch_sparse.egg-info/SOURCES.txt'\n",
      "\u001b[?25h  Preparing metadata (setup.py) ... \u001b[?25l\u001b[?25hdone\n",
      "Requirement already satisfied: scipy in /share/pkg.7/python3/3.8.10/install/lib/python3.8/site-packages/scipy-1.6.2-py3.8-linux-x86_64.egg (from torch-sparse) (1.6.2)\n",
      "Requirement already satisfied: numpy<1.23.0,>=1.16.5 in /share/pkg.7/tensorflow/2.3.1/install/lib/python3.8/site-packages (from scipy->torch-sparse) (1.18.5)\n",
      "Building wheels for collected packages: torch-sparse\n",
      "  Running command /share/pkg.7/python3/3.8.10/install/bin/python3.8 -u -c 'import io, os, sys, setuptools, tokenize; sys.argv[0] = '\"'\"'/scratch/1142539.1.academic-gpu/pip-install-kgit_sg5/torch-sparse_7f7518cd139e4074a68c57bb0922a0e1/setup.py'\"'\"'; __file__='\"'\"'/scratch/1142539.1.academic-gpu/pip-install-kgit_sg5/torch-sparse_7f7518cd139e4074a68c57bb0922a0e1/setup.py'\"'\"';f = getattr(tokenize, '\"'\"'open'\"'\"', open)(__file__) if os.path.exists(__file__) else io.StringIO('\"'\"'from setuptools import setup; setup()'\"'\"');code = f.read().replace('\"'\"'\\r\\n'\"'\"', '\"'\"'\\n'\"'\"');f.close();exec(compile(code, __file__, '\"'\"'exec'\"'\"'))' bdist_wheel -d /scratch/1142539.1.academic-gpu/pip-wheel-bor1ijnh\n",
      "  running bdist_wheel\n",
      "  running build\n",
      "  running build_py\n",
      "  creating build\n",
      "  creating build/lib.linux-x86_64-3.8\n",
      "  creating build/lib.linux-x86_64-3.8/torch_sparse\n",
      "  copying torch_sparse/spspmm.py -> build/lib.linux-x86_64-3.8/torch_sparse\n",
      "  copying torch_sparse/sample.py -> build/lib.linux-x86_64-3.8/torch_sparse\n",
      "  copying torch_sparse/masked_select.py -> build/lib.linux-x86_64-3.8/torch_sparse\n",
      "  copying torch_sparse/__init__.py -> build/lib.linux-x86_64-3.8/torch_sparse\n",
      "  copying torch_sparse/rw.py -> build/lib.linux-x86_64-3.8/torch_sparse\n",
      "  copying torch_sparse/cat.py -> build/lib.linux-x86_64-3.8/torch_sparse\n",
      "  copying torch_sparse/matmul.py -> build/lib.linux-x86_64-3.8/torch_sparse\n",
      "  copying torch_sparse/padding.py -> build/lib.linux-x86_64-3.8/torch_sparse\n",
      "  copying torch_sparse/spmm.py -> build/lib.linux-x86_64-3.8/torch_sparse\n",
      "  copying torch_sparse/utils.py -> build/lib.linux-x86_64-3.8/torch_sparse\n",
      "  copying torch_sparse/convert.py -> build/lib.linux-x86_64-3.8/torch_sparse\n",
      "  copying torch_sparse/index_select.py -> build/lib.linux-x86_64-3.8/torch_sparse\n",
      "  copying torch_sparse/permute.py -> build/lib.linux-x86_64-3.8/torch_sparse\n",
      "  copying torch_sparse/bandwidth.py -> build/lib.linux-x86_64-3.8/torch_sparse\n",
      "  copying torch_sparse/saint.py -> build/lib.linux-x86_64-3.8/torch_sparse\n",
      "  copying torch_sparse/mul.py -> build/lib.linux-x86_64-3.8/torch_sparse\n",
      "  copying torch_sparse/coalesce.py -> build/lib.linux-x86_64-3.8/torch_sparse\n",
      "  copying torch_sparse/narrow.py -> build/lib.linux-x86_64-3.8/torch_sparse\n",
      "  copying torch_sparse/reduce.py -> build/lib.linux-x86_64-3.8/torch_sparse\n",
      "  copying torch_sparse/transpose.py -> build/lib.linux-x86_64-3.8/torch_sparse\n",
      "  copying torch_sparse/eye.py -> build/lib.linux-x86_64-3.8/torch_sparse\n",
      "  copying torch_sparse/select.py -> build/lib.linux-x86_64-3.8/torch_sparse\n",
      "  copying torch_sparse/storage.py -> build/lib.linux-x86_64-3.8/torch_sparse\n",
      "  copying torch_sparse/metis.py -> build/lib.linux-x86_64-3.8/torch_sparse\n",
      "  copying torch_sparse/diag.py -> build/lib.linux-x86_64-3.8/torch_sparse\n",
      "  copying torch_sparse/tensor.py -> build/lib.linux-x86_64-3.8/torch_sparse\n",
      "  copying torch_sparse/add.py -> build/lib.linux-x86_64-3.8/torch_sparse\n",
      "  running build_ext\n",
      "  /share/pkg.7/pytorch/1.9.0/install/lib/python3.8/site-packages/torch/utils/cpp_extension.py:312: UserWarning:\n",
      "\n",
      "                                 !! WARNING !!\n",
      "\n",
      "  !!!!!!!!!!!!!!!!!!!!!!!!!!!!!!!!!!!!!!!!!!!!!!!!!!!!!!!!!!!!!!!!!!!!!!!!!!!!!!!\n",
      "  Your compiler (g++ 4.8.5) may be ABI-incompatible with PyTorch!\n",
      "  Please use a compiler that is ABI-compatible with GCC 5.0 and above.\n",
      "  See https://gcc.gnu.org/onlinedocs/libstdc++/manual/abi.html.\n",
      "\n",
      "  See https://gist.github.com/goldsborough/d466f43e8ffc948ff92de7486c5216d6\n",
      "  for instructions on how to install GCC 5 or higher.\n",
      "  !!!!!!!!!!!!!!!!!!!!!!!!!!!!!!!!!!!!!!!!!!!!!!!!!!!!!!!!!!!!!!!!!!!!!!!!!!!!!!!\n",
      "\n",
      "                                !! WARNING !!\n",
      "\n",
      "    warnings.warn(ABI_INCOMPATIBILITY_WARNING.format(compiler))\n",
      "  building 'torch_sparse._spmm_cpu' extension\n",
      "  creating build/temp.linux-x86_64-3.8\n",
      "  creating build/temp.linux-x86_64-3.8/csrc\n",
      "  creating build/temp.linux-x86_64-3.8/csrc/cpu\n",
      "  gcc -pthread -Wno-unused-result -Wsign-compare -DNDEBUG -g -fwrapv -O3 -Wall -O3 -g -fPIC -Icsrc -I/share/pkg.7/pytorch/1.9.0/install/lib/python3.8/site-packages/torch/include -I/share/pkg.7/pytorch/1.9.0/install/lib/python3.8/site-packages/torch/include/torch/csrc/api/include -I/share/pkg.7/pytorch/1.9.0/install/lib/python3.8/site-packages/torch/include/TH -I/share/pkg.7/pytorch/1.9.0/install/lib/python3.8/site-packages/torch/include/THC -I/share/pkg.7/python3/3.8.10/install/include/python3.8 -c csrc/spmm.cpp -o build/temp.linux-x86_64-3.8/csrc/spmm.o -O2 -DAT_PARALLEL_OPENMP -fopenmp -DTORCH_API_INCLUDE_EXTENSION_H -DPYBIND11_COMPILER_TYPE=\"_gcc\" -DPYBIND11_STDLIB=\"_libstdcpp\" -DPYBIND11_BUILD_ABI=\"_cxxabi1011\" -DTORCH_EXTENSION_NAME=_spmm_cpu -D_GLIBCXX_USE_CXX11_ABI=0 -std=c++14\n",
      "  gcc: error: unrecognized command line option '-std=c++14'\n",
      "  error: command 'gcc' failed with exit status 1\n",
      "  Building wheel for torch-sparse (setup.py) ... \u001b[?25lerror\n",
      "\u001b[31m  ERROR: Failed building wheel for torch-sparse\u001b[0m\n",
      "\u001b[?25h  Running setup.py clean for torch-sparse\n",
      "  Running command /share/pkg.7/python3/3.8.10/install/bin/python3.8 -u -c 'import io, os, sys, setuptools, tokenize; sys.argv[0] = '\"'\"'/scratch/1142539.1.academic-gpu/pip-install-kgit_sg5/torch-sparse_7f7518cd139e4074a68c57bb0922a0e1/setup.py'\"'\"'; __file__='\"'\"'/scratch/1142539.1.academic-gpu/pip-install-kgit_sg5/torch-sparse_7f7518cd139e4074a68c57bb0922a0e1/setup.py'\"'\"';f = getattr(tokenize, '\"'\"'open'\"'\"', open)(__file__) if os.path.exists(__file__) else io.StringIO('\"'\"'from setuptools import setup; setup()'\"'\"');code = f.read().replace('\"'\"'\\r\\n'\"'\"', '\"'\"'\\n'\"'\"');f.close();exec(compile(code, __file__, '\"'\"'exec'\"'\"'))' clean --all\n",
      "  running clean\n",
      "  removing 'build/temp.linux-x86_64-3.8' (and everything under it)\n",
      "  removing 'build/lib.linux-x86_64-3.8' (and everything under it)\n",
      "  'build/bdist.linux-x86_64' does not exist -- can't clean it\n",
      "  'build/scripts-3.8' does not exist -- can't clean it\n",
      "  removing 'build'\n",
      "Failed to build torch-sparse\n",
      "Installing collected packages: torch-sparse\n",
      "    Running command /share/pkg.7/python3/3.8.10/install/bin/python3.8 -u -c 'import io, os, sys, setuptools, tokenize; sys.argv[0] = '\"'\"'/scratch/1142539.1.academic-gpu/pip-install-kgit_sg5/torch-sparse_7f7518cd139e4074a68c57bb0922a0e1/setup.py'\"'\"'; __file__='\"'\"'/scratch/1142539.1.academic-gpu/pip-install-kgit_sg5/torch-sparse_7f7518cd139e4074a68c57bb0922a0e1/setup.py'\"'\"';f = getattr(tokenize, '\"'\"'open'\"'\"', open)(__file__) if os.path.exists(__file__) else io.StringIO('\"'\"'from setuptools import setup; setup()'\"'\"');code = f.read().replace('\"'\"'\\r\\n'\"'\"', '\"'\"'\\n'\"'\"');f.close();exec(compile(code, __file__, '\"'\"'exec'\"'\"'))' install --record /scratch/1142539.1.academic-gpu/pip-record-y0f3fjir/install-record.txt --single-version-externally-managed --user --prefix= --compile --install-headers /usr3/graduate/zche/.local/include/python3.8/torch-sparse\n"
     ]
    },
    {
     "name": "stdout",
     "output_type": "stream",
     "text": [
      "    running install\n",
      "    running build\n",
      "    running build_py\n",
      "    creating build\n",
      "    creating build/lib.linux-x86_64-3.8\n",
      "    creating build/lib.linux-x86_64-3.8/torch_sparse\n",
      "    copying torch_sparse/spspmm.py -> build/lib.linux-x86_64-3.8/torch_sparse\n",
      "    copying torch_sparse/sample.py -> build/lib.linux-x86_64-3.8/torch_sparse\n",
      "    copying torch_sparse/masked_select.py -> build/lib.linux-x86_64-3.8/torch_sparse\n",
      "    copying torch_sparse/__init__.py -> build/lib.linux-x86_64-3.8/torch_sparse\n",
      "    copying torch_sparse/rw.py -> build/lib.linux-x86_64-3.8/torch_sparse\n",
      "    copying torch_sparse/cat.py -> build/lib.linux-x86_64-3.8/torch_sparse\n",
      "    copying torch_sparse/matmul.py -> build/lib.linux-x86_64-3.8/torch_sparse\n",
      "    copying torch_sparse/padding.py -> build/lib.linux-x86_64-3.8/torch_sparse\n",
      "    copying torch_sparse/spmm.py -> build/lib.linux-x86_64-3.8/torch_sparse\n",
      "    copying torch_sparse/utils.py -> build/lib.linux-x86_64-3.8/torch_sparse\n",
      "    copying torch_sparse/convert.py -> build/lib.linux-x86_64-3.8/torch_sparse\n",
      "    copying torch_sparse/index_select.py -> build/lib.linux-x86_64-3.8/torch_sparse\n",
      "    copying torch_sparse/permute.py -> build/lib.linux-x86_64-3.8/torch_sparse\n",
      "    copying torch_sparse/bandwidth.py -> build/lib.linux-x86_64-3.8/torch_sparse\n",
      "    copying torch_sparse/saint.py -> build/lib.linux-x86_64-3.8/torch_sparse\n",
      "    copying torch_sparse/mul.py -> build/lib.linux-x86_64-3.8/torch_sparse\n",
      "    copying torch_sparse/coalesce.py -> build/lib.linux-x86_64-3.8/torch_sparse\n",
      "    copying torch_sparse/narrow.py -> build/lib.linux-x86_64-3.8/torch_sparse\n",
      "    copying torch_sparse/reduce.py -> build/lib.linux-x86_64-3.8/torch_sparse\n",
      "    copying torch_sparse/transpose.py -> build/lib.linux-x86_64-3.8/torch_sparse\n",
      "    copying torch_sparse/eye.py -> build/lib.linux-x86_64-3.8/torch_sparse\n",
      "    copying torch_sparse/select.py -> build/lib.linux-x86_64-3.8/torch_sparse\n",
      "    copying torch_sparse/storage.py -> build/lib.linux-x86_64-3.8/torch_sparse\n",
      "    copying torch_sparse/metis.py -> build/lib.linux-x86_64-3.8/torch_sparse\n",
      "    copying torch_sparse/diag.py -> build/lib.linux-x86_64-3.8/torch_sparse\n",
      "    copying torch_sparse/tensor.py -> build/lib.linux-x86_64-3.8/torch_sparse\n",
      "    copying torch_sparse/add.py -> build/lib.linux-x86_64-3.8/torch_sparse\n",
      "    running build_ext\n",
      "    /share/pkg.7/pytorch/1.9.0/install/lib/python3.8/site-packages/torch/utils/cpp_extension.py:312: UserWarning:\n",
      "\n",
      "                                   !! WARNING !!\n",
      "\n",
      "    !!!!!!!!!!!!!!!!!!!!!!!!!!!!!!!!!!!!!!!!!!!!!!!!!!!!!!!!!!!!!!!!!!!!!!!!!!!!!!!\n",
      "    Your compiler (g++ 4.8.5) may be ABI-incompatible with PyTorch!\n",
      "    Please use a compiler that is ABI-compatible with GCC 5.0 and above.\n",
      "    See https://gcc.gnu.org/onlinedocs/libstdc++/manual/abi.html.\n",
      "\n",
      "    See https://gist.github.com/goldsborough/d466f43e8ffc948ff92de7486c5216d6\n",
      "    for instructions on how to install GCC 5 or higher.\n",
      "    !!!!!!!!!!!!!!!!!!!!!!!!!!!!!!!!!!!!!!!!!!!!!!!!!!!!!!!!!!!!!!!!!!!!!!!!!!!!!!!\n",
      "\n",
      "                                  !! WARNING !!\n",
      "\n",
      "      warnings.warn(ABI_INCOMPATIBILITY_WARNING.format(compiler))\n",
      "    building 'torch_sparse._spmm_cpu' extension\n",
      "    creating build/temp.linux-x86_64-3.8\n",
      "    creating build/temp.linux-x86_64-3.8/csrc\n",
      "    creating build/temp.linux-x86_64-3.8/csrc/cpu\n",
      "    gcc -pthread -Wno-unused-result -Wsign-compare -DNDEBUG -g -fwrapv -O3 -Wall -O3 -g -fPIC -Icsrc -I/share/pkg.7/pytorch/1.9.0/install/lib/python3.8/site-packages/torch/include -I/share/pkg.7/pytorch/1.9.0/install/lib/python3.8/site-packages/torch/include/torch/csrc/api/include -I/share/pkg.7/pytorch/1.9.0/install/lib/python3.8/site-packages/torch/include/TH -I/share/pkg.7/pytorch/1.9.0/install/lib/python3.8/site-packages/torch/include/THC -I/share/pkg.7/python3/3.8.10/install/include/python3.8 -c csrc/spmm.cpp -o build/temp.linux-x86_64-3.8/csrc/spmm.o -O2 -DAT_PARALLEL_OPENMP -fopenmp -DTORCH_API_INCLUDE_EXTENSION_H -DPYBIND11_COMPILER_TYPE=\"_gcc\" -DPYBIND11_STDLIB=\"_libstdcpp\" -DPYBIND11_BUILD_ABI=\"_cxxabi1011\" -DTORCH_EXTENSION_NAME=_spmm_cpu -D_GLIBCXX_USE_CXX11_ABI=0 -std=c++14\n",
      "    gcc: error: unrecognized command line option '-std=c++14'\n",
      "    error: command 'gcc' failed with exit status 1\n",
      "    Running setup.py install for torch-sparse ... \u001b[?25l\u001b[?25herror\n",
      "\u001b[31mERROR: Command errored out with exit status 1: /share/pkg.7/python3/3.8.10/install/bin/python3.8 -u -c 'import io, os, sys, setuptools, tokenize; sys.argv[0] = '\"'\"'/scratch/1142539.1.academic-gpu/pip-install-kgit_sg5/torch-sparse_7f7518cd139e4074a68c57bb0922a0e1/setup.py'\"'\"'; __file__='\"'\"'/scratch/1142539.1.academic-gpu/pip-install-kgit_sg5/torch-sparse_7f7518cd139e4074a68c57bb0922a0e1/setup.py'\"'\"';f = getattr(tokenize, '\"'\"'open'\"'\"', open)(__file__) if os.path.exists(__file__) else io.StringIO('\"'\"'from setuptools import setup; setup()'\"'\"');code = f.read().replace('\"'\"'\\r\\n'\"'\"', '\"'\"'\\n'\"'\"');f.close();exec(compile(code, __file__, '\"'\"'exec'\"'\"'))' install --record /scratch/1142539.1.academic-gpu/pip-record-y0f3fjir/install-record.txt --single-version-externally-managed --user --prefix= --compile --install-headers /usr3/graduate/zche/.local/include/python3.8/torch-sparse Check the logs for full command output.\u001b[0m\n",
      "\u001b[33mWARNING: You are using pip version 21.3; however, version 21.3.1 is available.\n",
      "You should consider upgrading via the '/share/pkg.7/python3/3.8.10/install/bin/python3.8 -m pip install --upgrade pip' command.\u001b[0m\n",
      "Note: you may need to restart the kernel to use updated packages.\n"
     ]
    }
   ],
   "source": [
    "pip install --verbose --no-cache-dir torch-sparse"
   ]
  },
  {
   "cell_type": "code",
   "execution_count": 194,
   "id": "8938047e",
   "metadata": {},
   "outputs": [
    {
     "name": "stdout",
     "output_type": "stream",
     "text": [
      "Defaulting to user installation because normal site-packages is not writeable\n",
      "Requirement already satisfied: torch_geometric in /usr3/graduate/zche/.local/lib/python3.8/site-packages (2.0.2)\n",
      "Requirement already satisfied: numpy in /share/pkg.7/tensorflow/2.3.1/install/lib/python3.8/site-packages (from torch_geometric) (1.18.5)\n",
      "Requirement already satisfied: jinja2 in /share/pkg.7/python3/3.8.10/install/lib/python3.8/site-packages (from torch_geometric) (2.11.3)\n",
      "Requirement already satisfied: scipy in /share/pkg.7/python3/3.8.10/install/lib/python3.8/site-packages/scipy-1.6.2-py3.8-linux-x86_64.egg (from torch_geometric) (1.6.2)\n",
      "Requirement already satisfied: yacs in /usr3/graduate/zche/.local/lib/python3.8/site-packages (from torch_geometric) (0.1.8)\n",
      "Requirement already satisfied: requests in /share/pkg.7/tensorflow/2.3.1/install/lib/python3.8/site-packages (from torch_geometric) (2.25.0)\n",
      "Requirement already satisfied: rdflib in /share/pkg.7/python3/3.8.10/install/lib/python3.8/site-packages (from torch_geometric) (5.0.0)\n",
      "Requirement already satisfied: tqdm in /share/pkg.7/python3/3.8.10/install/lib/python3.8/site-packages (from torch_geometric) (4.60.0)\n",
      "Requirement already satisfied: scikit-learn in /share/pkg.7/python3/3.8.10/install/lib/python3.8/site-packages (from torch_geometric) (0.24.2)\n",
      "Requirement already satisfied: networkx in /share/pkg.7/python3/3.8.10/install/lib/python3.8/site-packages (from torch_geometric) (2.5.1)\n",
      "Requirement already satisfied: pandas in /share/pkg.7/python3/3.8.10/install/lib/python3.8/site-packages (from torch_geometric) (1.2.4)\n",
      "Requirement already satisfied: pyparsing in /share/pkg.7/python3/3.8.10/install/lib/python3.8/site-packages (from torch_geometric) (2.4.7)\n",
      "Requirement already satisfied: PyYAML in /share/pkg.7/python3/3.8.10/install/lib/python3.8/site-packages (from torch_geometric) (5.4.1)\n",
      "Requirement already satisfied: googledrivedownloader in /usr3/graduate/zche/.local/lib/python3.8/site-packages (from torch_geometric) (0.4)\n",
      "Requirement already satisfied: MarkupSafe>=0.23 in /share/pkg.7/python3/3.8.10/install/lib/python3.8/site-packages (from jinja2->torch_geometric) (1.1.1)\n",
      "Requirement already satisfied: decorator<5,>=4.3 in /share/pkg.7/python3/3.8.10/install/lib/python3.8/site-packages (from networkx->torch_geometric) (4.4.2)\n",
      "Requirement already satisfied: python-dateutil>=2.7.3 in /share/pkg.7/python3/3.8.10/install/lib/python3.8/site-packages (from pandas->torch_geometric) (2.8.1)\n",
      "Requirement already satisfied: pytz>=2017.3 in /share/pkg.7/python3/3.8.10/install/lib/python3.8/site-packages (from pandas->torch_geometric) (2021.1)\n",
      "Requirement already satisfied: six in /share/pkg.7/tensorflow/2.3.1/install/lib/python3.8/site-packages (from rdflib->torch_geometric) (1.15.0)\n",
      "Requirement already satisfied: isodate in /share/pkg.7/python3/3.8.10/install/lib/python3.8/site-packages (from rdflib->torch_geometric) (0.6.0)\n",
      "Requirement already satisfied: certifi>=2017.4.17 in /share/pkg.7/tensorflow/2.3.1/install/lib/python3.8/site-packages (from requests->torch_geometric) (2020.11.8)\n",
      "Requirement already satisfied: urllib3<1.27,>=1.21.1 in /share/pkg.7/python3/3.8.10/install/lib/python3.8/site-packages (from requests->torch_geometric) (1.26.4)\n",
      "Requirement already satisfied: idna<3,>=2.5 in /share/pkg.7/tensorflow/2.3.1/install/lib/python3.8/site-packages (from requests->torch_geometric) (2.10)\n",
      "Requirement already satisfied: chardet<4,>=3.0.2 in /share/pkg.7/tensorflow/2.3.1/install/lib/python3.8/site-packages (from requests->torch_geometric) (3.0.4)\n",
      "Requirement already satisfied: threadpoolctl>=2.0.0 in /share/pkg.7/python3/3.8.10/install/lib/python3.8/site-packages (from scikit-learn->torch_geometric) (2.1.0)\n",
      "Requirement already satisfied: joblib>=0.11 in /share/pkg.7/python3/3.8.10/install/lib/python3.8/site-packages (from scikit-learn->torch_geometric) (1.0.1)\n",
      "\u001b[33mWARNING: You are using pip version 21.3; however, version 21.3.1 is available.\n",
      "You should consider upgrading via the '/share/pkg.7/python3/3.8.10/install/bin/python3.8 -m pip install --upgrade pip' command.\u001b[0m\n",
      "Note: you may need to restart the kernel to use updated packages.\n"
     ]
    }
   ],
   "source": [
    "pip install torch_geometric"
   ]
  },
  {
   "cell_type": "code",
   "execution_count": null,
   "id": "9c37e67c",
   "metadata": {},
   "outputs": [],
   "source": []
  },
  {
   "cell_type": "code",
   "execution_count": 199,
   "id": "518b73d1",
   "metadata": {},
   "outputs": [
    {
     "data": {
      "text/plain": [
       "<module 'torch' from '/share/pkg.7/pytorch/1.9.0/install/lib/python3.8/site-packages/torch/__init__.py'>"
      ]
     },
     "execution_count": 199,
     "metadata": {},
     "output_type": "execute_result"
    }
   ],
   "source": [
    "torch"
   ]
  },
  {
   "cell_type": "code",
   "execution_count": 196,
   "id": "e70633ea",
   "metadata": {},
   "outputs": [
    {
     "ename": "ModuleNotFoundError",
     "evalue": "No module named 'torch_sparse'",
     "output_type": "error",
     "traceback": [
      "\u001b[0;31m---------------------------------------------------------------------------\u001b[0m",
      "\u001b[0;31mModuleNotFoundError\u001b[0m                       Traceback (most recent call last)",
      "\u001b[0;32m<ipython-input-196-b336892afbe1>\u001b[0m in \u001b[0;36m<module>\u001b[0;34m\u001b[0m\n\u001b[0;32m----> 1\u001b[0;31m \u001b[0;32mfrom\u001b[0m \u001b[0mtorch_geometric\u001b[0m\u001b[0;34m.\u001b[0m\u001b[0mdata\u001b[0m \u001b[0;32mimport\u001b[0m \u001b[0mData\u001b[0m\u001b[0;34m\u001b[0m\u001b[0;34m\u001b[0m\u001b[0m\n\u001b[0m",
      "\u001b[0;32m~/.local/lib/python3.8/site-packages/torch_geometric/__init__.py\u001b[0m in \u001b[0;36m<module>\u001b[0;34m\u001b[0m\n\u001b[1;32m      5\u001b[0m \u001b[0;32mfrom\u001b[0m \u001b[0;34m.\u001b[0m\u001b[0mdebug\u001b[0m \u001b[0;32mimport\u001b[0m \u001b[0mis_debug_enabled\u001b[0m\u001b[0;34m,\u001b[0m \u001b[0mdebug\u001b[0m\u001b[0;34m,\u001b[0m \u001b[0mset_debug\u001b[0m\u001b[0;34m\u001b[0m\u001b[0;34m\u001b[0m\u001b[0m\n\u001b[1;32m      6\u001b[0m \u001b[0;34m\u001b[0m\u001b[0m\n\u001b[0;32m----> 7\u001b[0;31m \u001b[0;32mimport\u001b[0m \u001b[0mtorch_geometric\u001b[0m\u001b[0;34m.\u001b[0m\u001b[0mdata\u001b[0m\u001b[0;34m\u001b[0m\u001b[0;34m\u001b[0m\u001b[0m\n\u001b[0m\u001b[1;32m      8\u001b[0m \u001b[0;32mimport\u001b[0m \u001b[0mtorch_geometric\u001b[0m\u001b[0;34m.\u001b[0m\u001b[0mloader\u001b[0m\u001b[0;34m\u001b[0m\u001b[0;34m\u001b[0m\u001b[0m\n\u001b[1;32m      9\u001b[0m \u001b[0;32mimport\u001b[0m \u001b[0mtorch_geometric\u001b[0m\u001b[0;34m.\u001b[0m\u001b[0mtransforms\u001b[0m\u001b[0;34m\u001b[0m\u001b[0;34m\u001b[0m\u001b[0m\n",
      "\u001b[0;32m~/.local/lib/python3.8/site-packages/torch_geometric/data/__init__.py\u001b[0m in \u001b[0;36m<module>\u001b[0;34m\u001b[0m\n\u001b[0;32m----> 1\u001b[0;31m \u001b[0;32mfrom\u001b[0m \u001b[0;34m.\u001b[0m\u001b[0mdata\u001b[0m \u001b[0;32mimport\u001b[0m \u001b[0mData\u001b[0m\u001b[0;34m\u001b[0m\u001b[0;34m\u001b[0m\u001b[0m\n\u001b[0m\u001b[1;32m      2\u001b[0m \u001b[0;32mfrom\u001b[0m \u001b[0;34m.\u001b[0m\u001b[0mhetero_data\u001b[0m \u001b[0;32mimport\u001b[0m \u001b[0mHeteroData\u001b[0m\u001b[0;34m\u001b[0m\u001b[0;34m\u001b[0m\u001b[0m\n\u001b[1;32m      3\u001b[0m \u001b[0;32mfrom\u001b[0m \u001b[0;34m.\u001b[0m\u001b[0mtemporal\u001b[0m \u001b[0;32mimport\u001b[0m \u001b[0mTemporalData\u001b[0m\u001b[0;34m\u001b[0m\u001b[0;34m\u001b[0m\u001b[0m\n\u001b[1;32m      4\u001b[0m \u001b[0;32mfrom\u001b[0m \u001b[0;34m.\u001b[0m\u001b[0mbatch\u001b[0m \u001b[0;32mimport\u001b[0m \u001b[0mBatch\u001b[0m\u001b[0;34m\u001b[0m\u001b[0;34m\u001b[0m\u001b[0m\n\u001b[1;32m      5\u001b[0m \u001b[0;32mfrom\u001b[0m \u001b[0;34m.\u001b[0m\u001b[0mdataset\u001b[0m \u001b[0;32mimport\u001b[0m \u001b[0mDataset\u001b[0m\u001b[0;34m\u001b[0m\u001b[0;34m\u001b[0m\u001b[0m\n",
      "\u001b[0;32m~/.local/lib/python3.8/site-packages/torch_geometric/data/data.py\u001b[0m in \u001b[0;36m<module>\u001b[0;34m\u001b[0m\n\u001b[1;32m      1\u001b[0m from typing import (Optional, Dict, Any, Union, List, Iterable, Tuple,\n\u001b[1;32m      2\u001b[0m                     NamedTuple, Callable)\n\u001b[0;32m----> 3\u001b[0;31m \u001b[0;32mfrom\u001b[0m \u001b[0mtorch_geometric\u001b[0m\u001b[0;34m.\u001b[0m\u001b[0mtyping\u001b[0m \u001b[0;32mimport\u001b[0m \u001b[0mOptTensor\u001b[0m\u001b[0;34m,\u001b[0m \u001b[0mNodeType\u001b[0m\u001b[0;34m,\u001b[0m \u001b[0mEdgeType\u001b[0m\u001b[0;34m\u001b[0m\u001b[0;34m\u001b[0m\u001b[0m\n\u001b[0m\u001b[1;32m      4\u001b[0m \u001b[0;32mfrom\u001b[0m \u001b[0mtorch_geometric\u001b[0m\u001b[0;34m.\u001b[0m\u001b[0mdeprecation\u001b[0m \u001b[0;32mimport\u001b[0m \u001b[0mdeprecated\u001b[0m\u001b[0;34m\u001b[0m\u001b[0;34m\u001b[0m\u001b[0m\n\u001b[1;32m      5\u001b[0m \u001b[0;34m\u001b[0m\u001b[0m\n",
      "\u001b[0;32m~/.local/lib/python3.8/site-packages/torch_geometric/typing.py\u001b[0m in \u001b[0;36m<module>\u001b[0;34m\u001b[0m\n\u001b[1;32m      2\u001b[0m \u001b[0;34m\u001b[0m\u001b[0m\n\u001b[1;32m      3\u001b[0m \u001b[0;32mfrom\u001b[0m \u001b[0mtorch\u001b[0m \u001b[0;32mimport\u001b[0m \u001b[0mTensor\u001b[0m\u001b[0;34m\u001b[0m\u001b[0;34m\u001b[0m\u001b[0m\n\u001b[0;32m----> 4\u001b[0;31m \u001b[0;32mfrom\u001b[0m \u001b[0mtorch_sparse\u001b[0m \u001b[0;32mimport\u001b[0m \u001b[0mSparseTensor\u001b[0m\u001b[0;34m\u001b[0m\u001b[0;34m\u001b[0m\u001b[0m\n\u001b[0m\u001b[1;32m      5\u001b[0m \u001b[0;34m\u001b[0m\u001b[0m\n\u001b[1;32m      6\u001b[0m \u001b[0;31m# Types for accessing data ####################################################\u001b[0m\u001b[0;34m\u001b[0m\u001b[0;34m\u001b[0m\u001b[0;34m\u001b[0m\u001b[0m\n",
      "\u001b[0;31mModuleNotFoundError\u001b[0m: No module named 'torch_sparse'"
     ]
    }
   ],
   "source": [
    "from torch_geometric.data import Data"
   ]
  },
  {
   "cell_type": "code",
   "execution_count": 188,
   "id": "b43d765f",
   "metadata": {},
   "outputs": [
    {
     "ename": "NameError",
     "evalue": "name 'Data' is not defined",
     "output_type": "error",
     "traceback": [
      "\u001b[0;31m---------------------------------------------------------------------------\u001b[0m",
      "\u001b[0;31mNameError\u001b[0m                                 Traceback (most recent call last)",
      "\u001b[0;32m<ipython-input-188-5c16adfe50f6>\u001b[0m in \u001b[0;36m<module>\u001b[0;34m\u001b[0m\n\u001b[0;32m----> 1\u001b[0;31m \u001b[0mdata\u001b[0m \u001b[0;34m=\u001b[0m \u001b[0mData\u001b[0m\u001b[0;34m(\u001b[0m\u001b[0mx\u001b[0m \u001b[0;34m=\u001b[0m \u001b[0mnode_features\u001b[0m\u001b[0;34m,\u001b[0m \u001b[0medge_index\u001b[0m\u001b[0;34m=\u001b[0m\u001b[0mt\u001b[0m\u001b[0;34m.\u001b[0m\u001b[0mt\u001b[0m\u001b[0;34m(\u001b[0m\u001b[0;34m)\u001b[0m\u001b[0;34m.\u001b[0m\u001b[0mcontiguous\u001b[0m\u001b[0;34m(\u001b[0m\u001b[0;34m)\u001b[0m\u001b[0;34m,\u001b[0m\u001b[0medge_attr\u001b[0m\u001b[0;34m=\u001b[0m \u001b[0mt_edges_attr\u001b[0m\u001b[0;34m)\u001b[0m\u001b[0;34m\u001b[0m\u001b[0;34m\u001b[0m\u001b[0m\n\u001b[0m",
      "\u001b[0;31mNameError\u001b[0m: name 'Data' is not defined"
     ]
    }
   ],
   "source": [
    "data = Data(x = node_features, edge_index=t.t().contiguous(),edge_attr= t_edges_attr)"
   ]
  },
  {
   "cell_type": "code",
   "execution_count": null,
   "id": "f17475c0",
   "metadata": {},
   "outputs": [],
   "source": [
    "with open('node_features.npy', 'wb') as f:\n",
    "    np.save(f, node_features)"
   ]
  },
  {
   "cell_type": "code",
   "execution_count": null,
   "id": "464a8066",
   "metadata": {},
   "outputs": [],
   "source": [
    "with open('node_t_edge_example.npy', 'wb') as f:\n",
    "    np.save(f, t_edges_index)"
   ]
  }
 ],
 "metadata": {
  "kernelspec": {
   "display_name": "Python 3",
   "language": "python",
   "name": "python3"
  },
  "language_info": {
   "codemirror_mode": {
    "name": "ipython",
    "version": 3
   },
   "file_extension": ".py",
   "mimetype": "text/x-python",
   "name": "python",
   "nbconvert_exporter": "python",
   "pygments_lexer": "ipython3",
   "version": "3.8.10"
  }
 },
 "nbformat": 4,
 "nbformat_minor": 5
}
